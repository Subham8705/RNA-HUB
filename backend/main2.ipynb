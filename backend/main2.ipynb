{
 "cells": [
  {
   "cell_type": "code",
   "id": "initial_id",
   "metadata": {
    "collapsed": true,
    "ExecuteTime": {
     "end_time": "2025-06-21T07:13:56.670458Z",
     "start_time": "2025-06-21T07:13:56.389471Z"
    }
   },
   "source": [
    "import pandas as pd\n",
    "import pickle\n",
    "import numpy as np\n",
    "\n",
    "# Step 1: Load the saved model, scaler, label encoder, and PCA\n",
    "try:\n",
    "    with open(\"rf_model.pkl\", \"rb\") as file:\n",
    "        model = pickle.load(file)\n",
    "    with open(\"scaler.pkl\", \"rb\") as file:\n",
    "        scaler = pickle.load(file)\n",
    "    with open(\"label_encoder.pkl\", \"rb\") as file:\n",
    "        le = pickle.load(file)\n",
    "    with open(\"pca.pkl\", \"rb\") as file:\n",
    "        pca = pickle.load(file)\n",
    "except FileNotFoundError as e:\n",
    "    print(f\"Error: Missing required file - {e}\")\n",
    "    exit()\n",
    "\n",
    "# Step 2: Read the input data\n",
    "try:\n",
    "    data = pd.read_csv('new_patient_3.csv')\n",
    "except FileNotFoundError:\n",
    "    print(\"Error: data.csv file not found.\")\n",
    "    exit()\n",
    "\n",
    "# Rename the first column to 'sample_id' to match the training setup\n",
    "data.rename(columns={data.columns[0]: \"sample_id\"}, inplace=True)\n",
    "\n",
    "# Step 3: Validate the CSV has exactly one row\n",
    "if len(data) == 0:\n",
    "    print(\"Error: The CSV file is empty.\")\n",
    "    exit()\n",
    "elif len(data) != 1:\n",
    "    print(f\"Warning: Expected 1 row in data.csv, but found {len(data)} rows. Using the first row.\")\n",
    "row_index = 0  # Use the only available row\n",
    "single_row = data.iloc[[row_index]]  # Keep DataFrame structure\n",
    "\n",
    "# Step 4: Preprocess the row\n",
    "# Drop 'sample_id' for prediction (as it was not used in training features)\n",
    "X_single = single_row.drop(['sample_id'], axis=1)\n",
    "\n",
    "# Validate column count\n",
    "expected_columns = 20531  # Number of gene columns expected from training\n",
    "if X_single.shape[1] != expected_columns:\n",
    "    print(f\"Error: Expected {expected_columns} gene columns, but got {X_single.shape[1]}.\")\n",
    "    exit()\n",
    "\n",
    "# Scale and apply PCA transformation\n",
    "X_single_scaled = scaler.transform(X_single)\n",
    "X_single_pca = pca.transform(X_single_scaled)\n",
    "\n",
    "# Step 5: Make prediction for the single row\n",
    "y_pred_encoded = model.predict(X_single_pca)\n",
    "\n",
    "# Step 6: Convert encoded prediction to class name\n",
    "y_pred = le.inverse_transform(y_pred_encoded)\n",
    "\n",
    "# Step 7: Output the prediction\n",
    "sample_id = single_row['sample_id'].values[0]\n",
    "print(f\"Prediction for sample_id '{sample_id}': {y_pred[0]}\")"
   ],
   "outputs": [
    {
     "name": "stdout",
     "output_type": "stream",
     "text": [
      "Prediction for sample_id 'sample_125': PRAD\n"
     ]
    }
   ],
   "execution_count": 7
  }
 ],
 "metadata": {
  "kernelspec": {
   "display_name": "Python 3",
   "language": "python",
   "name": "python3"
  },
  "language_info": {
   "codemirror_mode": {
    "name": "ipython",
    "version": 2
   },
   "file_extension": ".py",
   "mimetype": "text/x-python",
   "name": "python",
   "nbconvert_exporter": "python",
   "pygments_lexer": "ipython2",
   "version": "2.7.6"
  }
 },
 "nbformat": 4,
 "nbformat_minor": 5
}
